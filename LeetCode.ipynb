{
 "cells": [
  {
   "cell_type": "markdown",
   "id": "5b50a73c-1416-42cb-b140-70fb5ce4c11e",
   "metadata": {},
   "source": [
    "# fibonacci"
   ]
  },
  {
   "cell_type": "code",
   "execution_count": 59,
   "id": "38491d70-0f75-4974-8f96-bc045193db56",
   "metadata": {},
   "outputs": [],
   "source": [
    "def fibonacci(n):\n",
    "    if n==0:\n",
    "        return 0\n",
    "    if n==1:\n",
    "        return 1\n",
    "    return fibonacci(n-1) + fibonacci(n-2)"
   ]
  },
  {
   "cell_type": "code",
   "execution_count": 60,
   "id": "67edacf8-250e-4e7f-9571-6927b59c1068",
   "metadata": {},
   "outputs": [],
   "source": [
    "fibs = [fibonacci(0) , fibonacci(1) , fibonacci(2) , fibonacci(3) , fibonacci(4) , fibonacci(5) , fibonacci(6) , fibonacci(7) , fibonacci(8)]"
   ]
  },
  {
   "cell_type": "code",
   "execution_count": 61,
   "id": "58fc30d5-e187-40c3-ac64-73d5757dccf4",
   "metadata": {},
   "outputs": [
    {
     "data": {
      "text/plain": [
       "[0, 1, 1, 2, 3, 5, 8, 13, 21]"
      ]
     },
     "execution_count": 61,
     "metadata": {},
     "output_type": "execute_result"
    }
   ],
   "source": [
    "fibs"
   ]
  },
  {
   "cell_type": "markdown",
   "id": "36431fae-91ee-43f8-be84-5eb45acc1100",
   "metadata": {},
   "source": [
    "## leetcode merge two arrays (https://leetcode.com/problems/merge-sorted-array/description/)"
   ]
  },
  {
   "cell_type": "code",
   "execution_count": 64,
   "id": "aabfe864-752a-4741-995c-faad84ac1b10",
   "metadata": {},
   "outputs": [],
   "source": [
    "def merge(nums1, m, nums2, n):\n",
    "        for j in range(n):\n",
    "          nums1[m+j] = nums2[j]\n",
    "        nums1.sort()\n",
    "        return nums1"
   ]
  },
  {
   "cell_type": "code",
   "execution_count": 65,
   "id": "ea3dcd58-97e5-4811-b2d1-96506ae5f99f",
   "metadata": {},
   "outputs": [
    {
     "data": {
      "text/plain": [
       "[1, 2, 3, 5, 12, 13, 14]"
      ]
     },
     "execution_count": 65,
     "metadata": {},
     "output_type": "execute_result"
    }
   ],
   "source": [
    "nums1 = [1,2,3,4,5,6 ,0]\n",
    "nums2 = [12,13,14,5]\n",
    "merge(nums1 , 3 , nums2 , 4)"
   ]
  },
  {
   "cell_type": "markdown",
   "id": "85d53a12-2459-4403-ab40-0cbfa0cdea95",
   "metadata": {},
   "source": [
    "### LeetCode roman to int (https://leetcode.com/problems/roman-to-integer/?envType=study-plan-v2&envId=top-interview-150)"
   ]
  },
  {
   "cell_type": "code",
   "execution_count": 76,
   "id": "ab2975d3-a758-4e51-a05f-1d746d5ad75f",
   "metadata": {},
   "outputs": [],
   "source": [
    "def romanToInt(s):\n",
    "    translation = {\n",
    "        \"I\" : 1 ,\n",
    "        \"V\" : 5 ,\n",
    "        \"X\" : 10 ,\n",
    "        \"L\" : 50 ,\n",
    "        \"C\" : 100 ,\n",
    "        \"D\" : 500 ,\n",
    "        \"M\" : 1000\n",
    "    }\n",
    "    sum = 0\n",
    "    s = s.replace('IV' , 'IIII').replace('IX' , 'VIIII').replace('XL' , 'XXXX').replace('XC' , 'LXXXX').replace('CD' , 'CCCC').replace('CM' , 'DCCCC')\n",
    "    for i in s :\n",
    "         sum += translation[i]\n",
    "        \n",
    "    return sum"
   ]
  },
  {
   "cell_type": "code",
   "execution_count": 82,
   "id": "bcb38eec-2773-4386-85e4-8d0caf44c7a4",
   "metadata": {},
   "outputs": [
    {
     "name": "stdout",
     "output_type": "stream",
     "text": [
      "1994\n"
     ]
    }
   ],
   "source": [
    "print(romanToInt('MCMXCIV'))"
   ]
  },
  {
   "cell_type": "markdown",
   "id": "d0c4e06c-dbdb-41d6-a73f-bd7c102d0608",
   "metadata": {},
   "source": [
    "## LeetCode Int To Roman (https://leetcode.com/problems/integer-to-roman/description/)"
   ]
  },
  {
   "cell_type": "code",
   "execution_count": 90,
   "id": "92f5882e-2674-4ef1-8142-ca5b872e78bb",
   "metadata": {},
   "outputs": [],
   "source": [
    "def intToRoman(num):\n",
    "    res = \"\"\n",
    "    symbols = [\n",
    "        [\"M\" , 1000],\n",
    "        [\"CM\" , 900],\n",
    "        [\"D\" , 500] ,\n",
    "        [\"CD\" , 400] ,\n",
    "        [\"C\" , 100 ] ,\n",
    "        [\"XC\" , 90] , \n",
    "        ['L' , 50] , \n",
    "        [\"XL\" , 40] ,\n",
    "        ['X' , 10] , \n",
    "        ['IX' , 9] ,\n",
    "        [\"V\" , 5] ,\n",
    "        [\"IV\" , 4] ,\n",
    "        [\"I\" , 1]    \n",
    "    ]\n",
    "\n",
    "    for symbol , value in symbols :\n",
    "        if num // value :\n",
    "            count = num // value\n",
    "            res += count * symbol\n",
    "            num = num % value\n",
    "    return res    "
   ]
  },
  {
   "cell_type": "code",
   "execution_count": 91,
   "id": "e6af2642-2b03-49bd-81ba-da48857f0d59",
   "metadata": {},
   "outputs": [
    {
     "data": {
      "text/plain": [
       "'MMMDCCXLIX'"
      ]
     },
     "execution_count": 91,
     "metadata": {},
     "output_type": "execute_result"
    }
   ],
   "source": [
    "intToRoman(3749)"
   ]
  },
  {
   "cell_type": "code",
   "execution_count": null,
   "id": "b5e7abf8-f199-4f10-9467-8cd52eae5034",
   "metadata": {},
   "outputs": [],
   "source": []
  }
 ],
 "metadata": {
  "kernelspec": {
   "display_name": "Python 3 (ipykernel)",
   "language": "python",
   "name": "python3"
  },
  "language_info": {
   "codemirror_mode": {
    "name": "ipython",
    "version": 3
   },
   "file_extension": ".py",
   "mimetype": "text/x-python",
   "name": "python",
   "nbconvert_exporter": "python",
   "pygments_lexer": "ipython3",
   "version": "3.12.2"
  }
 },
 "nbformat": 4,
 "nbformat_minor": 5
}
